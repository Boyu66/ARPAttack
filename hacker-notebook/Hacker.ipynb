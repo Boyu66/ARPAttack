{
 "cells": [
  {
   "cell_type": "markdown",
   "metadata": {},
   "source": [
    "# ArpSpoof Man-in-the-Middle Attack\n",
    "\n",
    "## Introduction\n",
    "This demonstration illustrates a man-in-the-middle attack, whereby a malicious hacker on the same network as a client and server can intercept communication between the two. We will accomplish this by a technique known as ``ARP poisoning`` that modifies the ARP (Address Resolution Protocol) tables on a different host. \n",
    "\n",
    "## Steps\n",
    "\n",
    "### Before the Attack\n",
    "1. What are the IP addresses of the ``victim`` and ``server``? *(hint: ifconfig)*\n",
    "2. What is the initial ARP table on the ``victim``? *(hint: arp, use the -n option to view IP addresses alone)*\n",
    "3. Can you test the network connectivity between the ``victim`` and ``server``? *(hint: ping)*\n",
    "4. How has the ARP table on the ``victim`` changed now?\n",
    "5. What is the route from the ``victim`` to the ``server``? *(hint: traceroute)*\n",
    "\n",
    "### During the Attack\n",
    "1. On the ``victim``, look at the results of ``ping <server IP>``, ``traceroute <server IP>`` and ``arp``. \n",
    "2. Start ARP poisoning by typing ``sudo arpspoof -t <victim IP> <server IP>``\n",
    "3. Now go back to the ``victim`` and look at the results of ``arp`` and ``traceroute <server IP>``. How does this compare to ``ping``?\n"
   ]
  },
  {
   "cell_type": "code",
   "execution_count": null,
   "metadata": {},
   "outputs": [],
   "source": []
  }
 ],
 "metadata": {
  "kernelspec": {
   "display_name": "Python 3",
   "language": "python",
   "name": "python3"
  },
  "language_info": {
   "codemirror_mode": {
    "name": "ipython",
    "version": 3
   },
   "file_extension": ".py",
   "mimetype": "text/x-python",
   "name": "python",
   "nbconvert_exporter": "python",
   "pygments_lexer": "ipython3",
   "version": "3.6.5"
  }
 },
 "nbformat": 4,
 "nbformat_minor": 2
}
